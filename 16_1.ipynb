{
  "nbformat": 4,
  "nbformat_minor": 0,
  "metadata": {
    "colab": {
      "provenance": [],
      "authorship_tag": "ABX9TyOIZKgLK5ZpQkfAKxt1JTaj",
      "include_colab_link": true
    },
    "kernelspec": {
      "name": "python3",
      "display_name": "Python 3"
    },
    "language_info": {
      "name": "python"
    }
  },
  "cells": [
    {
      "cell_type": "markdown",
      "metadata": {
        "id": "view-in-github",
        "colab_type": "text"
      },
      "source": [
        "<a href=\"https://colab.research.google.com/github/mybox-lab/de_test16/blob/main/16_1.ipynb\" target=\"_parent\"><img src=\"https://colab.research.google.com/assets/colab-badge.svg\" alt=\"Open In Colab\"/></a>"
      ]
    },
    {
      "cell_type": "code",
      "source": [
        "!pip install pyspark"
      ],
      "metadata": {
        "colab": {
          "base_uri": "https://localhost:8080/"
        },
        "id": "3Gt5MWk9Ne5m",
        "outputId": "24619f63-dbf1-42f0-cb4d-aad12a24b9a3"
      },
      "execution_count": 2,
      "outputs": [
        {
          "output_type": "stream",
          "name": "stdout",
          "text": [
            "Collecting pyspark\n",
            "  Downloading pyspark-3.5.3.tar.gz (317.3 MB)\n",
            "\u001b[2K     \u001b[90m━━━━━━━━━━━━━━━━━━━━━━━━━━━━━━━━━━━━━━━━\u001b[0m \u001b[32m317.3/317.3 MB\u001b[0m \u001b[31m3.9 MB/s\u001b[0m eta \u001b[36m0:00:00\u001b[0m\n",
            "\u001b[?25h  Preparing metadata (setup.py) ... \u001b[?25l\u001b[?25hdone\n",
            "Requirement already satisfied: py4j==0.10.9.7 in /usr/local/lib/python3.10/dist-packages (from pyspark) (0.10.9.7)\n",
            "Building wheels for collected packages: pyspark\n",
            "  Building wheel for pyspark (setup.py) ... \u001b[?25l\u001b[?25hdone\n",
            "  Created wheel for pyspark: filename=pyspark-3.5.3-py2.py3-none-any.whl size=317840625 sha256=06283cacc9a84eb6d78095e005dfe29d85ed4b6c1b3007a5af412e1cc09e7f1a\n",
            "  Stored in directory: /root/.cache/pip/wheels/1b/3a/92/28b93e2fbfdbb07509ca4d6f50c5e407f48dce4ddbda69a4ab\n",
            "Successfully built pyspark\n",
            "Installing collected packages: pyspark\n",
            "Successfully installed pyspark-3.5.3\n"
          ]
        }
      ]
    },
    {
      "cell_type": "code",
      "execution_count": 11,
      "metadata": {
        "colab": {
          "base_uri": "https://localhost:8080/"
        },
        "id": "cu-861iSNWbe",
        "outputId": "127c5613-91e2-410f-fae7-9270cc15e2d2"
      },
      "outputs": [
        {
          "name": "stdout",
          "output_type": "stream",
          "text": [
            "Введите количество строк: 10\n"
          ]
        }
      ],
      "source": [
        "import pyspark.sql.functions as F\n",
        "from pyspark.sql.functions import col\n",
        "from pyspark.sql.types import StructType, StructField, IntegerType, StringType, DateType\n",
        "from pyspark.sql import SparkSession\n",
        "import random\n",
        "import datetime\n",
        "import string\n",
        "\n",
        "def generate_random_name():\n",
        "    first_names = [\"Иван\", \"Алексей\", \"Мария\", \"Анна\"]\n",
        "    last_names = [\"Иванов\", \"Петров\", \"Смирнов\", \"Сидоров\"]\n",
        "    return random.choice(first_names) + ' ' + random.choice(last_names)\n",
        "\n",
        "def generate_random_email(name, age):\n",
        "    domains = [\"gmail.com\", \"yahoo.com\", \"outlook.com\"]\n",
        "    return f\"{name.lower().replace(' ', '_')}{age}@{random.choice(domains)}\"\n",
        "\n",
        "def generate_random_city():\n",
        "    cities = [\"Москва\", \"Санкт-Петербург\", \"Новосибирск\", \"Екатеринбург\", \"Казань\"]\n",
        "    return random.choice(cities)\n",
        "\n",
        "def generate_registration_date(age):\n",
        "    today = datetime.date.today()\n",
        "    return today - datetime.timedelta(days=365 * age)\n",
        "\n",
        "def generate_data(num_rows):\n",
        "    schema = StructType([\n",
        "        StructField(\"id\", IntegerType(), True),\n",
        "        StructField(\"name\", StringType(), True),\n",
        "        StructField(\"email\", StringType(), True),\n",
        "        StructField(\"city\", StringType(), True),\n",
        "        StructField(\"age\", IntegerType(), True),\n",
        "        StructField(\"salary\", IntegerType(), True),\n",
        "        StructField(\"registration_date\", DateType(), True)\n",
        "    ])\n",
        "\n",
        "    data = [\n",
        "        (i, name, generate_random_email(name, age), generate_random_city(), age, random.randint(30000, 150000), generate_registration_date(age))\n",
        "        for i, name, age in zip(range(1, num_rows+1), [generate_random_name() for _ in range(num_rows)], [random.randint(18, 95) for _ in range(num_rows)])\n",
        "    ]\n",
        "\n",
        "    df = spark.createDataFrame(data, schema)\n",
        "\n",
        "    # Введение NULL значений\n",
        "    df = df.withColumn(\"salary\", F.when(F.rand() < 0.05, F.lit(None)).otherwise(col(\"salary\")))\n",
        "\n",
        "    # Сохранение в CSV\n",
        "    current_date = datetime.datetime.now().strftime(\"%Y-%m-%d\")\n",
        "    file_name = f\"{current_date}-dev.csv\"\n",
        "    df.write.mode(\"overwrite\").csv(file_name, header=True)\n",
        "\n",
        "if __name__ == \"__main__\":\n",
        "    spark = SparkSession.builder.appName(\"DataGenerator\").getOrCreate()\n",
        "    num_rows = int(input(\"Введите количество строк: \"))\n",
        "    generate_data(num_rows)\n",
        "    spark.stop()"
      ]
    }
  ]
}